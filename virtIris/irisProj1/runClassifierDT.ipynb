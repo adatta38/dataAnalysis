{
 "cells": [
  {
   "cell_type": "code",
   "execution_count": 112,
   "metadata": {},
   "outputs": [],
   "source": [
    "import pandas as pd\n",
    "import numpy as np"
   ]
  },
  {
   "cell_type": "code",
   "execution_count": 113,
   "metadata": {},
   "outputs": [],
   "source": [
    "df = pd.read_csv(\"iris1.data\")          # read from CSV file \"iris1.data\" into a Dataframe variable \"df\""
   ]
  },
  {
   "cell_type": "code",
   "execution_count": 114,
   "metadata": {},
   "outputs": [
    {
     "data": {
      "text/plain": [
       "Index([u'sepalLength', u'sepalWidth', u'petalLength', u'petalWidth',\n",
       "       u'Spicies'],\n",
       "      dtype='object')"
      ]
     },
     "execution_count": 114,
     "metadata": {},
     "output_type": "execute_result"
    }
   ],
   "source": [
    "df.columns          # Print the names and datatypes of columns in the Dataframe \"df\""
   ]
  },
  {
   "cell_type": "code",
   "execution_count": 115,
   "metadata": {},
   "outputs": [
    {
     "data": {
      "text/plain": [
       "150"
      ]
     },
     "execution_count": 115,
     "metadata": {},
     "output_type": "execute_result"
    }
   ],
   "source": [
    "len(df)          # Check length of the DataFrame \"df\""
   ]
  },
  {
   "cell_type": "code",
   "execution_count": 116,
   "metadata": {},
   "outputs": [
    {
     "data": {
      "text/plain": [
       "sepalLength    float64\n",
       "sepalWidth     float64\n",
       "petalLength    float64\n",
       "petalWidth     float64\n",
       "Spicies         object\n",
       "dtype: object"
      ]
     },
     "execution_count": 116,
     "metadata": {},
     "output_type": "execute_result"
    }
   ],
   "source": [
    "df.dtypes          # List the DataTypes of the column-names in the DataFrame \"df\""
   ]
  },
  {
   "cell_type": "code",
   "execution_count": 117,
   "metadata": {},
   "outputs": [
    {
     "data": {
      "text/html": [
       "<div>\n",
       "<style scoped>\n",
       "    .dataframe tbody tr th:only-of-type {\n",
       "        vertical-align: middle;\n",
       "    }\n",
       "\n",
       "    .dataframe tbody tr th {\n",
       "        vertical-align: top;\n",
       "    }\n",
       "\n",
       "    .dataframe thead th {\n",
       "        text-align: right;\n",
       "    }\n",
       "</style>\n",
       "<table border=\"1\" class=\"dataframe\">\n",
       "  <thead>\n",
       "    <tr style=\"text-align: right;\">\n",
       "      <th></th>\n",
       "      <th>sepalLength</th>\n",
       "      <th>sepalWidth</th>\n",
       "      <th>petalLength</th>\n",
       "      <th>petalWidth</th>\n",
       "    </tr>\n",
       "  </thead>\n",
       "  <tbody>\n",
       "    <tr>\n",
       "      <th>count</th>\n",
       "      <td>150.000000</td>\n",
       "      <td>150.000000</td>\n",
       "      <td>150.000000</td>\n",
       "      <td>150.000000</td>\n",
       "    </tr>\n",
       "    <tr>\n",
       "      <th>mean</th>\n",
       "      <td>5.843333</td>\n",
       "      <td>3.054000</td>\n",
       "      <td>3.758667</td>\n",
       "      <td>1.198667</td>\n",
       "    </tr>\n",
       "    <tr>\n",
       "      <th>std</th>\n",
       "      <td>0.828066</td>\n",
       "      <td>0.433594</td>\n",
       "      <td>1.764420</td>\n",
       "      <td>0.763161</td>\n",
       "    </tr>\n",
       "    <tr>\n",
       "      <th>min</th>\n",
       "      <td>4.300000</td>\n",
       "      <td>2.000000</td>\n",
       "      <td>1.000000</td>\n",
       "      <td>0.100000</td>\n",
       "    </tr>\n",
       "    <tr>\n",
       "      <th>25%</th>\n",
       "      <td>5.100000</td>\n",
       "      <td>2.800000</td>\n",
       "      <td>1.600000</td>\n",
       "      <td>0.300000</td>\n",
       "    </tr>\n",
       "    <tr>\n",
       "      <th>50%</th>\n",
       "      <td>5.800000</td>\n",
       "      <td>3.000000</td>\n",
       "      <td>4.350000</td>\n",
       "      <td>1.300000</td>\n",
       "    </tr>\n",
       "    <tr>\n",
       "      <th>75%</th>\n",
       "      <td>6.400000</td>\n",
       "      <td>3.300000</td>\n",
       "      <td>5.100000</td>\n",
       "      <td>1.800000</td>\n",
       "    </tr>\n",
       "    <tr>\n",
       "      <th>max</th>\n",
       "      <td>7.900000</td>\n",
       "      <td>4.400000</td>\n",
       "      <td>6.900000</td>\n",
       "      <td>2.500000</td>\n",
       "    </tr>\n",
       "  </tbody>\n",
       "</table>\n",
       "</div>"
      ],
      "text/plain": [
       "       sepalLength  sepalWidth  petalLength  petalWidth\n",
       "count   150.000000  150.000000   150.000000  150.000000\n",
       "mean      5.843333    3.054000     3.758667    1.198667\n",
       "std       0.828066    0.433594     1.764420    0.763161\n",
       "min       4.300000    2.000000     1.000000    0.100000\n",
       "25%       5.100000    2.800000     1.600000    0.300000\n",
       "50%       5.800000    3.000000     4.350000    1.300000\n",
       "75%       6.400000    3.300000     5.100000    1.800000\n",
       "max       7.900000    4.400000     6.900000    2.500000"
      ]
     },
     "execution_count": 117,
     "metadata": {},
     "output_type": "execute_result"
    }
   ],
   "source": [
    "df.describe()          # Describe the data in the DataFrame \"df\""
   ]
  },
  {
   "cell_type": "code",
   "execution_count": 139,
   "metadata": {},
   "outputs": [
    {
     "data": {
      "text/plain": [
       "['Iris-virginica', 'Iris-setosa', 'Iris-versicolor']"
      ]
     },
     "execution_count": 139,
     "metadata": {},
     "output_type": "execute_result"
    }
   ],
   "source": [
    "# Convert unique \"Species\" values in the DataFrame \"df\" into a list and assign to a variable \"labelset\"\n",
    "labelset = set(df['Spicies'].values.tolist())\n",
    "labelset = list(labelset)\n",
    "labelset"
   ]
  },
  {
   "cell_type": "code",
   "execution_count": 140,
   "metadata": {},
   "outputs": [
    {
     "name": "stdout",
     "output_type": "stream",
     "text": [
      "     sepalLength  sepalWidth  petalLength  petalWidth          Spicies\n",
      "0            5.1         3.5          1.4         0.2      Iris-setosa\n",
      "50           7.0         3.2          4.7         1.4  Iris-versicolor\n",
      "100          6.3         3.3          6.0         2.5   Iris-virginica\n",
      "['sepalLength', 'sepalWidth', 'petalLength', 'petalWidth']\n",
      "3\n"
     ]
    }
   ],
   "source": [
    "# Create a test data DataFrame \"test_data_pd\" and assign values from 0th, 50th and 100th row of the DataFrame \"df\"\n",
    "test_data_pd = df.loc[[0,50,100]]\n",
    "print(test_data_pd)\n",
    "test_data_pd = test_data_pd.drop(\"Spicies\", axis=1)\n",
    "\n",
    "\n",
    "# Print the values of the \"test_data_pd\" DataFrame\n",
    "print(test_data_pd.columns.values.tolist())\n",
    "print(len(test_data_pd))"
   ]
  },
  {
   "cell_type": "code",
   "execution_count": 141,
   "metadata": {},
   "outputs": [
    {
     "name": "stdout",
     "output_type": "stream",
     "text": [
      "('Length of np array labels is --> ', 147)\n",
      "('Length of DataFrame training_data_pd is --> ', 147)\n",
      "['sepalLength', 'sepalWidth', 'petalLength', 'petalWidth']\n"
     ]
    }
   ],
   "source": [
    "# Create a test data DataFrame \"training_data_pd\" and assign values from DataFrame \"df\"\n",
    "training_data_pd = df\n",
    "\n",
    "\n",
    "# Drop the rows 0, 50 and 100 from the DataFrame \"training_data_pd\" as these are now stored in the DataFrame \"test_data_pd\"\n",
    "training_data_pd = training_data_pd.drop(training_data_pd.index[[0, 50, 100]]) \n",
    "\n",
    "\n",
    "# Assign values of column \"Species\" in the new DataFrama \"training_data_pd\" into a variable \"labels\"\n",
    "labels = training_data_pd['Spicies'].values\n",
    "print(\"Length of np array labels is --> \", len(labels))\n",
    "# print(labels)\n",
    "\n",
    "\n",
    "# Drop the column \"Species\" from the DataFrame \"training_data_pd\"\n",
    "training_data_pd = training_data_pd.drop(\"Spicies\", axis=1)\n",
    "\n",
    "\n",
    "# Print the values of the \"training_data_pd\" DataFrame\n",
    "print(\"Length of DataFrame training_data_pd is --> \", len(training_data_pd))\n",
    "print(training_data_pd.columns.values.tolist())"
   ]
  },
  {
   "cell_type": "code",
   "execution_count": 142,
   "metadata": {},
   "outputs": [
    {
     "name": "stdout",
     "output_type": "stream",
     "text": [
      "147\n",
      "3\n"
     ]
    }
   ],
   "source": [
    "# Store the data in the DataFrame \"training_data_pd\" into a numpy array \"training_data_np\"\n",
    "training_data_np = training_data_pd.values\n",
    "\n",
    "\n",
    "# Store the data in the DataFrame \"test_data_pd\" into a numpy array \"test_data_np\"\n",
    "test_data_np = test_data_pd.values\n",
    "\n",
    "\n",
    "# Print the values of the numpy arrays \"training_data_np\" and \"test_data_np\"\n",
    "print(len(training_data_np))\n",
    "print(len(test_data_np))"
   ]
  },
  {
   "cell_type": "code",
   "execution_count": 137,
   "metadata": {},
   "outputs": [],
   "source": [
    "from sklearn import tree\n",
    "clf = tree.DecisionTreeClassifier()\n",
    "clf = clf.fit(training_data_np, labels)"
   ]
  },
  {
   "cell_type": "code",
   "execution_count": null,
   "metadata": {},
   "outputs": [],
   "source": []
  }
 ],
 "metadata": {
  "kernelspec": {
   "display_name": "Python 2",
   "language": "python",
   "name": "python2"
  },
  "language_info": {
   "codemirror_mode": {
    "name": "ipython",
    "version": 2
   },
   "file_extension": ".py",
   "mimetype": "text/x-python",
   "name": "python",
   "nbconvert_exporter": "python",
   "pygments_lexer": "ipython2",
   "version": "2.7.10"
  }
 },
 "nbformat": 4,
 "nbformat_minor": 2
}
