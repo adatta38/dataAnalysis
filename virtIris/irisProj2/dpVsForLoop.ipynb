{
 "cells": [
  {
   "cell_type": "code",
   "execution_count": 15,
   "metadata": {},
   "outputs": [],
   "source": [
    "import numpy as np\n",
    "from datetime import datetime"
   ]
  },
  {
   "cell_type": "code",
   "execution_count": 16,
   "metadata": {},
   "outputs": [],
   "source": [
    "a = np.random.random(100)\n",
    "b = np.random.random(100)\n",
    "T = 100000"
   ]
  },
  {
   "cell_type": "code",
   "execution_count": 17,
   "metadata": {},
   "outputs": [],
   "source": [
    "def slow_dot_product(a,b):\n",
    "    result = 0\n",
    "    for e,f in zip(a,b):\n",
    "        result+=e*f\n",
    "    return result"
   ]
  },
  {
   "cell_type": "code",
   "execution_count": 18,
   "metadata": {},
   "outputs": [],
   "source": [
    "t0 = datetime.now()\n",
    "for t in xrange(T):\n",
    "    slow_dot_product(a,b)\n",
    "    \n",
    "dt1 = datetime.now() - t0"
   ]
  },
  {
   "cell_type": "code",
   "execution_count": 19,
   "metadata": {},
   "outputs": [],
   "source": [
    "t0 = datetime.now()\n",
    "for t in xrange(T):\n",
    "    a.dot(b)\n",
    "    \n",
    "dt2 = datetime.now() - t0"
   ]
  },
  {
   "cell_type": "code",
   "execution_count": 20,
   "metadata": {},
   "outputs": [
    {
     "name": "stdout",
     "output_type": "stream",
     "text": [
      "('dt1/dt2:', 35.22939484310258)\n"
     ]
    }
   ],
   "source": [
    "print(\"dt1/dt2:\", dt1.total_seconds() / dt2.total_seconds())"
   ]
  },
  {
   "cell_type": "code",
   "execution_count": null,
   "metadata": {},
   "outputs": [],
   "source": []
  }
 ],
 "metadata": {
  "kernelspec": {
   "display_name": "Python 2",
   "language": "python",
   "name": "python2"
  },
  "language_info": {
   "codemirror_mode": {
    "name": "ipython",
    "version": 2
   },
   "file_extension": ".py",
   "mimetype": "text/x-python",
   "name": "python",
   "nbconvert_exporter": "python",
   "pygments_lexer": "ipython2",
   "version": "2.7.10"
  }
 },
 "nbformat": 4,
 "nbformat_minor": 2
}
