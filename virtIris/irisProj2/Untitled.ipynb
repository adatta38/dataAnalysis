{
 "cells": [
  {
   "cell_type": "code",
   "execution_count": 132,
   "metadata": {},
   "outputs": [],
   "source": [
    "import numpy as np\n",
    "import pandas as pd"
   ]
  },
  {
   "cell_type": "code",
   "execution_count": 133,
   "metadata": {},
   "outputs": [],
   "source": [
    "fd = pd.read_csv(\"iris1.data\")"
   ]
  },
  {
   "cell_type": "code",
   "execution_count": 134,
   "metadata": {},
   "outputs": [
    {
     "data": {
      "text/plain": [
       "array([[5.1, 3.5, 1.4, 0.2],\n",
       "       [4.9, 3. , 1.4, 0.2],\n",
       "       [4.7, 3.2, 1.3, 0.2],\n",
       "       [4.6, 3.1, 1.5, 0.2],\n",
       "       [5. , 3.6, 1.4, 0.2]])"
      ]
     },
     "execution_count": 134,
     "metadata": {},
     "output_type": "execute_result"
    }
   ],
   "source": [
    "fd = fd.drop(\"Spicies\", axis=1)\n",
    "irisNumpy = np.array(fd, dtype=np.float64)\n",
    "irisNumpy[0:5]"
   ]
  },
  {
   "cell_type": "code",
   "execution_count": 135,
   "metadata": {},
   "outputs": [
    {
     "name": "stdout",
     "output_type": "stream",
     "text": [
      "('Dimension of the irisNumpy Array is --> ', 2)\n",
      "('Shape of the irisNumpy Array is --> ', (150, 4))\n",
      "('Size of the irisNumpy Array is --> ', 600)\n",
      "('Itemsize of the irisNumpy Array is --> ', 8)\n",
      "('Total memory size of the irisNumpy Array is --> ', 4800)\n",
      "('DataType of the irisNumpy Array is --> ', dtype('float64'))\n",
      "('Name of the DataType of the irisNumpy Array is --> ', 'float64')\n",
      "('Type of the irisNumpy Array is --> ', <type 'numpy.ndarray'>)\n"
     ]
    }
   ],
   "source": [
    "print(\"Dimension of the irisNumpy Array is --> \", irisNumpy.ndim)\n",
    "print(\"Shape of the irisNumpy Array is --> \", irisNumpy.shape)\n",
    "print(\"Size of the irisNumpy Array is --> \", irisNumpy.size)\n",
    "print(\"Itemsize of the irisNumpy Array is --> \", irisNumpy.itemsize)\n",
    "print(\"Total memory size of the irisNumpy Array is --> \", irisNumpy.itemsize * irisNumpy.size)\n",
    "print(\"DataType of the irisNumpy Array is --> \", irisNumpy.dtype)\n",
    "print(\"Name of the DataType of the irisNumpy Array is --> \", irisNumpy.dtype.name)\n",
    "print(\"Type of the irisNumpy Array is --> \", type(irisNumpy))"
   ]
  },
  {
   "cell_type": "code",
   "execution_count": 136,
   "metadata": {},
   "outputs": [
    {
     "name": "stdout",
     "output_type": "stream",
     "text": [
      "('This is a zero matrix --> ', array([[0, 0, 0],\n",
      "       [0, 0, 0],\n",
      "       [0, 0, 0],\n",
      "       [0, 0, 0],\n",
      "       [0, 0, 0]]))\n"
     ]
    }
   ],
   "source": [
    "zerosNumpy = np.zeros((5,3), dtype=np.int64)\n",
    "print(\"This is a zero matrix --> \", zerosNumpy)"
   ]
  },
  {
   "cell_type": "code",
   "execution_count": 137,
   "metadata": {},
   "outputs": [
    {
     "name": "stdout",
     "output_type": "stream",
     "text": [
      "('This is a matrix of ones --> ', array([[1., 1., 1.],\n",
      "       [1., 1., 1.],\n",
      "       [1., 1., 1.],\n",
      "       [1., 1., 1.],\n",
      "       [1., 1., 1.]], dtype=float32))\n"
     ]
    }
   ],
   "source": [
    "onesNumpy = np.ones((5,3), dtype = np.float32)\n",
    "print(\"This is a matrix of ones --> \", onesNumpy)"
   ]
  },
  {
   "cell_type": "code",
   "execution_count": 138,
   "metadata": {},
   "outputs": [
    {
     "name": "stdout",
     "output_type": "stream",
     "text": [
      "('This is a identity matrix --> ', array([[1., 0., 0., 0., 0.],\n",
      "       [0., 1., 0., 0., 0.],\n",
      "       [0., 0., 1., 0., 0.],\n",
      "       [0., 0., 0., 1., 0.],\n",
      "       [0., 0., 0., 0., 1.]]))\n",
      "('This is a identity matrix with different method and Datatype int64 --> ', array([[1, 0, 0, 0],\n",
      "       [0, 1, 0, 0],\n",
      "       [0, 0, 1, 0],\n",
      "       [0, 0, 0, 1]]))\n"
     ]
    }
   ],
   "source": [
    "idenNumpy = np.eye(5)\n",
    "print(\"This is a identity matrix --> \", idenNumpy)\n",
    "idenNumpy = np.identity((4), dtype=np.int64)\n",
    "print(\"This is a identity matrix with different method and Datatype int64 --> \", idenNumpy)"
   ]
  },
  {
   "cell_type": "code",
   "execution_count": 139,
   "metadata": {},
   "outputs": [
    {
     "name": "stdout",
     "output_type": "stream",
     "text": [
      "This is a random matrix --> \n",
      "[[0.3153573  0.41452263 0.56077943 0.06872864 0.08875582]\n",
      " [0.38355712 0.25160974 0.19333141 0.19063286 0.37072813]\n",
      " [0.85049972 0.37303794 0.43792461 0.319449   0.27965523]]\n"
     ]
    }
   ],
   "source": [
    "randNumpy = np.random.random((3,5))\n",
    "print(\"This is a random matrix --> \")\n",
    "print(randNumpy)"
   ]
  },
  {
   "cell_type": "code",
   "execution_count": 140,
   "metadata": {},
   "outputs": [
    {
     "name": "stdout",
     "output_type": "stream",
     "text": [
      "This is a random matrix uniformly distributed between -5 to 5--> \n",
      "[[ 1.13170538 -0.11760412  0.71591919 -2.2250787  -2.1995844 ]\n",
      " [ 2.9838243   0.25274125  1.86655921  3.58351381  2.94524963]\n",
      " [-2.67898582  2.60345723  3.37374932  0.71934885  1.24030925]]\n"
     ]
    }
   ],
   "source": [
    "randNumpy = np.random.uniform(-5, 5, (3,5))\n",
    "print(\"This is a random matrix uniformly distributed between -5 to 5--> \")\n",
    "print(randNumpy)"
   ]
  },
  {
   "cell_type": "markdown",
   "metadata": {},
   "source": [
    "Sine Values:"
   ]
  },
  {
   "cell_type": "code",
   "execution_count": 141,
   "metadata": {},
   "outputs": [
    {
     "data": {
      "text/plain": [
       "array([-10. ,  -9.6,  -9.2,  -8.8,  -8.4,  -8. ,  -7.6,  -7.2,  -6.8,\n",
       "        -6.4,  -6. ,  -5.6,  -5.2,  -4.8,  -4.4,  -4. ,  -3.6,  -3.2,\n",
       "        -2.8,  -2.4,  -2. ,  -1.6,  -1.2,  -0.8,  -0.4,   0. ,   0.4,\n",
       "         0.8,   1.2,   1.6,   2. ,   2.4,   2.8,   3.2,   3.6,   4. ,\n",
       "         4.4,   4.8,   5.2,   5.6,   6. ,   6.4,   6.8,   7.2,   7.6,\n",
       "         8. ,   8.4,   8.8,   9.2,   9.6,  10. ])"
      ]
     },
     "execution_count": 141,
     "metadata": {},
     "output_type": "execute_result"
    }
   ],
   "source": [
    "x = np.linspace(-10, 10, 51)\n",
    "x"
   ]
  },
  {
   "cell_type": "code",
   "execution_count": 142,
   "metadata": {},
   "outputs": [
    {
     "data": {
      "text/plain": [
       "array([-10. ,  -9.7,  -9.4,  -9.1,  -8.8,  -8.5,  -8.2,  -7.9,  -7.6,\n",
       "        -7.3,  -7. ,  -6.7,  -6.4,  -6.1,  -5.8,  -5.5,  -5.2,  -4.9,\n",
       "        -4.6,  -4.3,  -4. ,  -3.7,  -3.4,  -3.1,  -2.8,  -2.5,  -2.2,\n",
       "        -1.9,  -1.6,  -1.3,  -1. ,  -0.7,  -0.4,  -0.1,   0.2,   0.5,\n",
       "         0.8,   1.1,   1.4,   1.7,   2. ,   2.3,   2.6,   2.9,   3.2,\n",
       "         3.5,   3.8,   4.1,   4.4,   4.7,   5. ,   5.3,   5.6,   5.9,\n",
       "         6.2,   6.5,   6.8,   7.1,   7.4,   7.7,   8. ,   8.3,   8.6,\n",
       "         8.9,   9.2,   9.5,   9.8])"
      ]
     },
     "execution_count": 142,
     "metadata": {},
     "output_type": "execute_result"
    }
   ],
   "source": [
    "x = np.arange(-10, 10.05, 0.3)\n",
    "x"
   ]
  },
  {
   "cell_type": "code",
   "execution_count": 156,
   "metadata": {},
   "outputs": [],
   "source": [
    "sine = np.sin(x)\n",
    "import matplotlib.pyplot as plt\n",
    "plt.plot(x,sine)\n",
    "plt.show()"
   ]
  },
  {
   "cell_type": "code",
   "execution_count": 157,
   "metadata": {},
   "outputs": [],
   "source": [
    "quad1 = x**2 + 2*x + 5\n",
    "plt.plot(x, quad1)\n",
    "plt.show()"
   ]
  },
  {
   "cell_type": "code",
   "execution_count": null,
   "metadata": {},
   "outputs": [],
   "source": [
    "def norm_function(x, mean, var):\n",
    "    return 1.0/((2.0*np.pi*var**2)**0.5) * np.exp(-(x-mean)**2/(2*(var**2)))\n",
    "\n",
    "x = np.arange(-5, 5.01, 0.05)\n",
    "pdf1 = norm_function(x, 0, 0.2)\n",
    "pdf2 = norm_function(x, 0, 0.4)\n",
    "pdf3 = norm_function(x, 0, 0.8)\n",
    "pdf4 = norm_function(x, -2, 5.0)\n",
    "plt.plot(x, pdf1, color='blue', label = \"mean = {} var = {}\".format(0, 0.2))\n",
    "plt.plot(x, pdf2, color='red', label = \"mean = {} var = {}\".format(0, 1.0))\n",
    "plt.plot(x, pdf3, color='brown', label = \"mean = {} var = {}\".format(0, 4.0))\n",
    "plt.plot(x, pdf4, color='green', label = \"mean = {} var = {}\".format(-2, 5.0))\n",
    "plt.legend()\n",
    "plt.show()"
   ]
  },
  {
   "cell_type": "code",
   "execution_count": null,
   "metadata": {},
   "outputs": [],
   "source": []
  }
 ],
 "metadata": {
  "kernelspec": {
   "display_name": "Python 2",
   "language": "python",
   "name": "python2"
  },
  "language_info": {
   "codemirror_mode": {
    "name": "ipython",
    "version": 2
   },
   "file_extension": ".py",
   "mimetype": "text/x-python",
   "name": "python",
   "nbconvert_exporter": "python",
   "pygments_lexer": "ipython2",
   "version": "2.7.10"
  }
 },
 "nbformat": 4,
 "nbformat_minor": 2
}
