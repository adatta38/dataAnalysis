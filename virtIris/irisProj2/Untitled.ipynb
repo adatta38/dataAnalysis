{
 "cells": [
  {
   "cell_type": "code",
   "execution_count": 2,
   "metadata": {},
   "outputs": [],
   "source": [
    "import numpy as np\n",
    "import pandas as pd"
   ]
  },
  {
   "cell_type": "code",
   "execution_count": 3,
   "metadata": {},
   "outputs": [],
   "source": [
    "fd = pd.read_csv(\"iris1.data\")"
   ]
  },
  {
   "cell_type": "code",
   "execution_count": 4,
   "metadata": {},
   "outputs": [
    {
     "data": {
      "text/plain": [
       "array([[5.1, 3.5, 1.4, 0.2],\n",
       "       [4.9, 3. , 1.4, 0.2],\n",
       "       [4.7, 3.2, 1.3, 0.2],\n",
       "       [4.6, 3.1, 1.5, 0.2],\n",
       "       [5. , 3.6, 1.4, 0.2]])"
      ]
     },
     "execution_count": 4,
     "metadata": {},
     "output_type": "execute_result"
    }
   ],
   "source": [
    "fd = fd.drop(\"Spicies\", axis=1)\n",
    "irisNumpy = np.array(fd, dtype=np.float64)\n",
    "irisNumpy[0:5]"
   ]
  },
  {
   "cell_type": "code",
   "execution_count": 5,
   "metadata": {},
   "outputs": [
    {
     "name": "stdout",
     "output_type": "stream",
     "text": [
      "('Dimension of the irisNumpy Array is --> ', 2)\n",
      "('Shape of the irisNumpy Array is --> ', (150, 4))\n",
      "('Size of the irisNumpy Array is --> ', 600)\n",
      "('Itemsize of the irisNumpy Array is --> ', 8)\n",
      "('Total memory size of the irisNumpy Array is --> ', 4800)\n",
      "('DataType of the irisNumpy Array is --> ', dtype('float64'))\n",
      "('Name of the DataType of the irisNumpy Array is --> ', 'float64')\n",
      "('Type of the irisNumpy Array is --> ', <type 'numpy.ndarray'>)\n"
     ]
    }
   ],
   "source": [
    "print(\"Dimension of the irisNumpy Array is --> \", irisNumpy.ndim)\n",
    "print(\"Shape of the irisNumpy Array is --> \", irisNumpy.shape)\n",
    "print(\"Size of the irisNumpy Array is --> \", irisNumpy.size)\n",
    "print(\"Itemsize of the irisNumpy Array is --> \", irisNumpy.itemsize)\n",
    "print(\"Total memory size of the irisNumpy Array is --> \", irisNumpy.itemsize * irisNumpy.size)\n",
    "print(\"DataType of the irisNumpy Array is --> \", irisNumpy.dtype)\n",
    "print(\"Name of the DataType of the irisNumpy Array is --> \", irisNumpy.dtype.name)\n",
    "print(\"Type of the irisNumpy Array is --> \", type(irisNumpy))"
   ]
  },
  {
   "cell_type": "code",
   "execution_count": 11,
   "metadata": {},
   "outputs": [
    {
     "name": "stdout",
     "output_type": "stream",
     "text": [
      "('This is a zero matrix --> ', array([[0, 0, 0],\n",
      "       [0, 0, 0],\n",
      "       [0, 0, 0],\n",
      "       [0, 0, 0],\n",
      "       [0, 0, 0]]))\n"
     ]
    }
   ],
   "source": [
    "zerosNumpy = np.zeros((5,3), dtype=np.int64)\n",
    "print(\"This is a zero matrix --> \", zerosNumpy)"
   ]
  },
  {
   "cell_type": "code",
   "execution_count": 12,
   "metadata": {},
   "outputs": [
    {
     "name": "stdout",
     "output_type": "stream",
     "text": [
      "('This is a matrix of ones --> ', array([[1., 1., 1.],\n",
      "       [1., 1., 1.],\n",
      "       [1., 1., 1.],\n",
      "       [1., 1., 1.],\n",
      "       [1., 1., 1.]], dtype=float32))\n"
     ]
    }
   ],
   "source": [
    "onesNumpy = np.ones((5,3), dtype = np.float32)\n",
    "print(\"This is a matrix of ones --> \", onesNumpy)"
   ]
  },
  {
   "cell_type": "code",
   "execution_count": 13,
   "metadata": {},
   "outputs": [
    {
     "name": "stdout",
     "output_type": "stream",
     "text": [
      "('This is a identity matrix --> ', array([[1., 0., 0., 0., 0.],\n",
      "       [0., 1., 0., 0., 0.],\n",
      "       [0., 0., 1., 0., 0.],\n",
      "       [0., 0., 0., 1., 0.],\n",
      "       [0., 0., 0., 0., 1.]]))\n",
      "('This is a identity matrix with different method and Datatype int64 --> ', array([[1, 0, 0, 0],\n",
      "       [0, 1, 0, 0],\n",
      "       [0, 0, 1, 0],\n",
      "       [0, 0, 0, 1]]))\n"
     ]
    }
   ],
   "source": [
    "idenNumpy = np.eye(5)\n",
    "print(\"This is a identity matrix --> \", idenNumpy)\n",
    "idenNumpy = np.identity((4), dtype=np.int64)\n",
    "print(\"This is a identity matrix with different method and Datatype int64 --> \", idenNumpy)"
   ]
  },
  {
   "cell_type": "code",
   "execution_count": 14,
   "metadata": {},
   "outputs": [
    {
     "name": "stdout",
     "output_type": "stream",
     "text": [
      "This is a random matrix --> \n",
      "[[0.46173894 0.83798983 0.88780599 0.69856356 0.24124661]\n",
      " [0.11869275 0.16963306 0.9348862  0.30229169 0.76318578]\n",
      " [0.52648096 0.78900859 0.52798782 0.94979932 0.40029403]]\n"
     ]
    }
   ],
   "source": [
    "randNumpy = np.random.random((3,5))\n",
    "print(\"This is a random matrix --> \")\n",
    "print(randNumpy)"
   ]
  },
  {
   "cell_type": "code",
   "execution_count": 15,
   "metadata": {},
   "outputs": [
    {
     "name": "stdout",
     "output_type": "stream",
     "text": [
      "This is a random matrix uniformly distributed between -5 to 5--> \n",
      "[[-0.41717061 -2.44630862  2.90671507 -2.2376776  -4.3708618 ]\n",
      " [-3.25111594 -3.42044967  1.78248707  3.43716574 -4.9117011 ]\n",
      " [ 4.83920182 -3.68999328  2.30789184  0.51323102  1.21173671]]\n"
     ]
    }
   ],
   "source": [
    "randNumpy = np.random.uniform(-5, 5, (3,5))\n",
    "print(\"This is a random matrix uniformly distributed between -5 to 5--> \")\n",
    "print(randNumpy)"
   ]
  },
  {
   "cell_type": "markdown",
   "metadata": {},
   "source": [
    "Sine Values:"
   ]
  },
  {
   "cell_type": "code",
   "execution_count": 16,
   "metadata": {},
   "outputs": [
    {
     "data": {
      "text/plain": [
       "array([-10. ,  -9.6,  -9.2,  -8.8,  -8.4,  -8. ,  -7.6,  -7.2,  -6.8,\n",
       "        -6.4,  -6. ,  -5.6,  -5.2,  -4.8,  -4.4,  -4. ,  -3.6,  -3.2,\n",
       "        -2.8,  -2.4,  -2. ,  -1.6,  -1.2,  -0.8,  -0.4,   0. ,   0.4,\n",
       "         0.8,   1.2,   1.6,   2. ,   2.4,   2.8,   3.2,   3.6,   4. ,\n",
       "         4.4,   4.8,   5.2,   5.6,   6. ,   6.4,   6.8,   7.2,   7.6,\n",
       "         8. ,   8.4,   8.8,   9.2,   9.6,  10. ])"
      ]
     },
     "execution_count": 16,
     "metadata": {},
     "output_type": "execute_result"
    }
   ],
   "source": [
    "x = np.linspace(-10, 10, 51)\n",
    "x"
   ]
  },
  {
   "cell_type": "code",
   "execution_count": 17,
   "metadata": {},
   "outputs": [
    {
     "data": {
      "text/plain": [
       "array([-10. ,  -9.7,  -9.4,  -9.1,  -8.8,  -8.5,  -8.2,  -7.9,  -7.6,\n",
       "        -7.3,  -7. ,  -6.7,  -6.4,  -6.1,  -5.8,  -5.5,  -5.2,  -4.9,\n",
       "        -4.6,  -4.3,  -4. ,  -3.7,  -3.4,  -3.1,  -2.8,  -2.5,  -2.2,\n",
       "        -1.9,  -1.6,  -1.3,  -1. ,  -0.7,  -0.4,  -0.1,   0.2,   0.5,\n",
       "         0.8,   1.1,   1.4,   1.7,   2. ,   2.3,   2.6,   2.9,   3.2,\n",
       "         3.5,   3.8,   4.1,   4.4,   4.7,   5. ,   5.3,   5.6,   5.9,\n",
       "         6.2,   6.5,   6.8,   7.1,   7.4,   7.7,   8. ,   8.3,   8.6,\n",
       "         8.9,   9.2,   9.5,   9.8])"
      ]
     },
     "execution_count": 17,
     "metadata": {},
     "output_type": "execute_result"
    }
   ],
   "source": [
    "x = np.arange(-10, 10.05, 0.3)\n",
    "x"
   ]
  },
  {
   "cell_type": "code",
   "execution_count": 35,
   "metadata": {},
   "outputs": [],
   "source": [
    "sine = np.sin(x)\n",
    "import matplotlib.pyplot as plt\n",
    "plt.plot(x,sine)\n",
    "plt.show()"
   ]
  },
  {
   "cell_type": "code",
   "execution_count": 36,
   "metadata": {},
   "outputs": [],
   "source": [
    "quad1 = x**2 + 2*x + 5\n",
    "plt.plot(x, quad1)\n",
    "plt.show()"
   ]
  },
  {
   "cell_type": "code",
   "execution_count": 37,
   "metadata": {},
   "outputs": [],
   "source": [
    "def norm_function(x, mean, var):\n",
    "    return 1.0/((2.0*np.pi*var**2)**0.5) * np.exp(-(x-mean)**2/(2*(var**2)))\n",
    "\n",
    "x = np.arange(-5, 5.01, 0.05)\n",
    "pdf1 = norm_function(x, 0, 0.2)\n",
    "pdf2 = norm_function(x, 0, 0.4)\n",
    "pdf3 = norm_function(x, 0, 0.8)\n",
    "pdf4 = norm_function(x, -2, 5.0)\n",
    "plt.plot(x, pdf1, color='blue', label = \"mean = {} var = {}\".format(0, 0.2))\n",
    "plt.plot(x, pdf2, color='red', label = \"mean = {} var = {}\".format(0, 1.0))\n",
    "plt.plot(x, pdf3, color='brown', label = \"mean = {} var = {}\".format(0, 4.0))\n",
    "plt.plot(x, pdf4, color='green', label = \"mean = {} var = {}\".format(-2, 5.0))\n",
    "plt.legend()\n",
    "plt.show()"
   ]
  },
  {
   "cell_type": "code",
   "execution_count": 52,
   "metadata": {},
   "outputs": [
    {
     "name": "stdout",
     "output_type": "stream",
     "text": [
      "('Value of x --> ', array([-4., -3., -2., -1.,  0.,  1.,  2.,  3.,  4.]))\n",
      "('Value of y --> ', array([-5., -4., -3., -2., -1.,  0.,  1.,  2.,  3.,  4.,  5.]))\n"
     ]
    }
   ],
   "source": [
    "x = np.linspace(-4, 4, 9)\n",
    "print(\"Value of x --> \", x)\n",
    "y = np.linspace(-5, 5, 11)\n",
    "print(\"Value of y --> \", y)"
   ]
  },
  {
   "cell_type": "code",
   "execution_count": 53,
   "metadata": {},
   "outputs": [
    {
     "name": "stdout",
     "output_type": "stream",
     "text": [
      "Value of xx --> \n",
      "[[-4. -3. -2. -1.  0.  1.  2.  3.  4.]\n",
      " [-4. -3. -2. -1.  0.  1.  2.  3.  4.]\n",
      " [-4. -3. -2. -1.  0.  1.  2.  3.  4.]\n",
      " [-4. -3. -2. -1.  0.  1.  2.  3.  4.]\n",
      " [-4. -3. -2. -1.  0.  1.  2.  3.  4.]\n",
      " [-4. -3. -2. -1.  0.  1.  2.  3.  4.]\n",
      " [-4. -3. -2. -1.  0.  1.  2.  3.  4.]\n",
      " [-4. -3. -2. -1.  0.  1.  2.  3.  4.]\n",
      " [-4. -3. -2. -1.  0.  1.  2.  3.  4.]\n",
      " [-4. -3. -2. -1.  0.  1.  2.  3.  4.]\n",
      " [-4. -3. -2. -1.  0.  1.  2.  3.  4.]]\n",
      "\n",
      "('Shape of xx Matrix --> ', (11, 9))\n",
      "\n",
      "\n",
      "Value of yy --> \n",
      "[[-5. -5. -5. -5. -5. -5. -5. -5. -5.]\n",
      " [-4. -4. -4. -4. -4. -4. -4. -4. -4.]\n",
      " [-3. -3. -3. -3. -3. -3. -3. -3. -3.]\n",
      " [-2. -2. -2. -2. -2. -2. -2. -2. -2.]\n",
      " [-1. -1. -1. -1. -1. -1. -1. -1. -1.]\n",
      " [ 0.  0.  0.  0.  0.  0.  0.  0.  0.]\n",
      " [ 1.  1.  1.  1.  1.  1.  1.  1.  1.]\n",
      " [ 2.  2.  2.  2.  2.  2.  2.  2.  2.]\n",
      " [ 3.  3.  3.  3.  3.  3.  3.  3.  3.]\n",
      " [ 4.  4.  4.  4.  4.  4.  4.  4.  4.]\n",
      " [ 5.  5.  5.  5.  5.  5.  5.  5.  5.]]\n",
      "\n",
      "('Shape of yy Matrix --> ', (11, 9))\n"
     ]
    }
   ],
   "source": [
    "xx, yy = np.meshgrid(x, y)\n",
    "print(\"Value of xx --> \")\n",
    "print(xx)\n",
    "print\n",
    "print(\"Shape of xx Matrix --> \", np.shape(xx))\n",
    "print\n",
    "print\n",
    "print(\"Value of yy --> \")\n",
    "print(yy)\n",
    "print\n",
    "print(\"Shape of yy Matrix --> \", np.shape(yy))"
   ]
  },
  {
   "cell_type": "code",
   "execution_count": 54,
   "metadata": {},
   "outputs": [],
   "source": [
    "elipse = xx**2.0 + 4*yy**2\n",
    "plt.contourf(xx, yy, elipse, cmap='jet')\n",
    "plt.colorbar()\n",
    "plt.show()"
   ]
  },
  {
   "cell_type": "code",
   "execution_count": 55,
   "metadata": {},
   "outputs": [],
   "source": [
    "random_data = np.random.random((11,9))\n",
    "plt.contourf(xx, yy, random_data, cmap='jet')\n",
    "plt.colorbar()\n",
    "plt.show()"
   ]
  },
  {
   "cell_type": "code",
   "execution_count": 66,
   "metadata": {},
   "outputs": [
    {
     "name": "stdout",
     "output_type": "stream",
     "text": [
      "Value of xx1 --> \n",
      "[[-4. -4. -4. -4. -4. -4. -4. -4. -4. -4. -4.]\n",
      " [-3. -3. -3. -3. -3. -3. -3. -3. -3. -3. -3.]\n",
      " [-2. -2. -2. -2. -2. -2. -2. -2. -2. -2. -2.]\n",
      " [-1. -1. -1. -1. -1. -1. -1. -1. -1. -1. -1.]\n",
      " [ 0.  0.  0.  0.  0.  0.  0.  0.  0.  0.  0.]\n",
      " [ 1.  1.  1.  1.  1.  1.  1.  1.  1.  1.  1.]\n",
      " [ 2.  2.  2.  2.  2.  2.  2.  2.  2.  2.  2.]\n",
      " [ 3.  3.  3.  3.  3.  3.  3.  3.  3.  3.  3.]\n",
      " [ 4.  4.  4.  4.  4.  4.  4.  4.  4.  4.  4.]]\n",
      "\n",
      "Value of yy1 --> \n",
      "[[-5. -4. -3. -2. -1.  0.  1.  2.  3.  4.  5.]\n",
      " [-5. -4. -3. -2. -1.  0.  1.  2.  3.  4.  5.]\n",
      " [-5. -4. -3. -2. -1.  0.  1.  2.  3.  4.  5.]\n",
      " [-5. -4. -3. -2. -1.  0.  1.  2.  3.  4.  5.]\n",
      " [-5. -4. -3. -2. -1.  0.  1.  2.  3.  4.  5.]\n",
      " [-5. -4. -3. -2. -1.  0.  1.  2.  3.  4.  5.]\n",
      " [-5. -4. -3. -2. -1.  0.  1.  2.  3.  4.  5.]\n",
      " [-5. -4. -3. -2. -1.  0.  1.  2.  3.  4.  5.]\n",
      " [-5. -4. -3. -2. -1.  0.  1.  2.  3.  4.  5.]]\n"
     ]
    }
   ],
   "source": [
    "xx1, yy1 = np.meshgrid(x, y, indexing='ij')\n",
    "print(\"Value of xx1 --> \")\n",
    "print(xx1)\n",
    "print\n",
    "print(\"Value of yy1 --> \")\n",
    "print(yy1)"
   ]
  },
  {
   "cell_type": "code",
   "execution_count": 65,
   "metadata": {},
   "outputs": [
    {
     "data": {
      "text/plain": [
       "True"
      ]
     },
     "execution_count": 65,
     "metadata": {},
     "output_type": "execute_result"
    }
   ],
   "source": [
    "np.all(xx == xx1.T)\n",
    "np.all(yy == yy1.T)"
   ]
  },
  {
   "cell_type": "code",
   "execution_count": 4,
   "metadata": {},
   "outputs": [
    {
     "name": "stdout",
     "output_type": "stream",
     "text": [
      "[1, 2, 3, 4]\n",
      "[1 2 3 4]\n"
     ]
    }
   ],
   "source": [
    "L = [1,2,3,4]\n",
    "print(L)\n",
    "A = np.array([1,2,3,4])\n",
    "print(A)"
   ]
  },
  {
   "cell_type": "code",
   "execution_count": 7,
   "metadata": {},
   "outputs": [
    {
     "name": "stdout",
     "output_type": "stream",
     "text": [
      "1\n",
      "2\n",
      "3\n",
      "4\n",
      "\n",
      "1\n",
      "2\n",
      "3\n",
      "4\n"
     ]
    }
   ],
   "source": [
    "for e in L:\n",
    "    print e\n",
    "    \n",
    "print   \n",
    "\n",
    "for e in A:\n",
    "    print e"
   ]
  },
  {
   "cell_type": "code",
   "execution_count": 12,
   "metadata": {},
   "outputs": [
    {
     "name": "stdout",
     "output_type": "stream",
     "text": [
      "[1, 2, 3, 4, 5, 5, 5, 5, 6, 5, 6]\n",
      "\n",
      "[ 7  8  9 10]\n"
     ]
    }
   ],
   "source": [
    "L.append(5)\n",
    "L = L + [6]\n",
    "print L\n",
    "print\n",
    "# A.append(5)\n",
    "A = A + [6]\n",
    "print A"
   ]
  },
  {
   "cell_type": "code",
   "execution_count": 17,
   "metadata": {},
   "outputs": [
    {
     "data": {
      "text/plain": [
       "array([1.94591015, 2.07944154, 2.19722458, 2.30258509])"
      ]
     },
     "execution_count": 17,
     "metadata": {},
     "output_type": "execute_result"
    }
   ],
   "source": [
    "2*L\n",
    "2*A\n",
    "np.sqrt(A)\n",
    "np.log(A)"
   ]
  },
  {
   "cell_type": "code",
   "execution_count": 21,
   "metadata": {},
   "outputs": [
    {
     "name": "stdout",
     "output_type": "stream",
     "text": [
      "(array([1, 2]), array([2, 1]))\n"
     ]
    },
    {
     "data": {
      "text/plain": [
       "[(1, 2), (2, 1)]"
      ]
     },
     "execution_count": 21,
     "metadata": {},
     "output_type": "execute_result"
    }
   ],
   "source": [
    "a = np.array([1,2])\n",
    "b = np.array([2,1])\n",
    "print(a, b)\n",
    "zip(a, b)"
   ]
  },
  {
   "cell_type": "code",
   "execution_count": 24,
   "metadata": {},
   "outputs": [
    {
     "data": {
      "text/plain": [
       "4"
      ]
     },
     "execution_count": 24,
     "metadata": {},
     "output_type": "execute_result"
    }
   ],
   "source": [
    "dot = 0\n",
    "for e, f in zip(a, b):\n",
    "    dot+=e*f\n",
    "dot"
   ]
  },
  {
   "cell_type": "code",
   "execution_count": 39,
   "metadata": {},
   "outputs": [
    {
     "name": "stdout",
     "output_type": "stream",
     "text": [
      "[2 2]\n",
      "4\n",
      "4\n",
      "4\n"
     ]
    }
   ],
   "source": [
    "print(a*b)\n",
    "a*b\n"
   ]
  },
  {
   "cell_type": "code",
   "execution_count": 40,
   "metadata": {},
   "outputs": [
    {
     "name": "stdout",
     "output_type": "stream",
     "text": [
      "4\n",
      "4\n",
      "4\n"
     ]
    }
   ],
   "source": [
    "print(np.sum(a*b))\n",
    "print ((a*b).sum())\n",
    "print(a.dot(b))"
   ]
  },
  {
   "cell_type": "code",
   "execution_count": 5,
   "metadata": {},
   "outputs": [],
   "source": [
    "M = np.array([[1,2],[3,4]])\n",
    "L = [[1,2],[3,4]]"
   ]
  },
  {
   "cell_type": "code",
   "execution_count": 20,
   "metadata": {},
   "outputs": [
    {
     "name": "stdout",
     "output_type": "stream",
     "text": [
      "[1, 2]\n",
      "1\n",
      "[1 2]\n",
      "1\n",
      "1\n"
     ]
    }
   ],
   "source": [
    "print(L[0])\n",
    "print(L[0][0])\n",
    "print(M[0])\n",
    "print(M[0][0])\n",
    "print(M[0,0])\n",
    "# print(L[0,0])          # TypeError: list indices must be integers, not tuple"
   ]
  },
  {
   "cell_type": "code",
   "execution_count": 26,
   "metadata": {},
   "outputs": [
    {
     "data": {
      "text/plain": [
       "matrix([[1, 2],\n",
       "        [3, 4]])"
      ]
     },
     "execution_count": 26,
     "metadata": {},
     "output_type": "execute_result"
    }
   ],
   "source": [
    "M2 = np.matrix([[1,2],[3,4]])\n",
    "M2"
   ]
  },
  {
   "cell_type": "code",
   "execution_count": 29,
   "metadata": {},
   "outputs": [
    {
     "data": {
      "text/plain": [
       "array([[1, 3],\n",
       "       [2, 4]])"
      ]
     },
     "execution_count": 29,
     "metadata": {},
     "output_type": "execute_result"
    }
   ],
   "source": [
    "A = np.array(M2)\n",
    "A"
   ]
  },
  {
   "cell_type": "code",
   "execution_count": 30,
   "metadata": {},
   "outputs": [
    {
     "data": {
      "text/plain": [
       "array([[1, 3],\n",
       "       [2, 4]])"
      ]
     },
     "execution_count": 30,
     "metadata": {},
     "output_type": "execute_result"
    }
   ],
   "source": [
    "A.T"
   ]
  },
  {
   "cell_type": "code",
   "execution_count": 32,
   "metadata": {},
   "outputs": [
    {
     "data": {
      "text/plain": [
       "array([[0.82824417, 0.30122871, 0.07097256, 0.77033774, 0.63980385],\n",
       "       [0.08426645, 0.0312276 , 0.04100336, 0.64376043, 0.68783998],\n",
       "       [0.49359478, 0.96550257, 0.17309085, 0.78644873, 0.96205277],\n",
       "       [0.36472839, 0.99803524, 0.62096227, 0.49103074, 0.55435825],\n",
       "       [0.81320259, 0.00949791, 0.60060893, 0.38076523, 0.0727809 ]])"
      ]
     },
     "execution_count": 32,
     "metadata": {},
     "output_type": "execute_result"
    }
   ],
   "source": [
    "R = np.random.random((5,5))\n",
    "R"
   ]
  },
  {
   "cell_type": "code",
   "execution_count": 39,
   "metadata": {},
   "outputs": [
    {
     "data": {
      "text/plain": [
       "array([[-0.78188201, -0.57797356, -1.37851588, -0.03723525,  1.4049972 ],\n",
       "       [-0.42307951, -0.40551149, -0.88058254, -0.70065592, -1.25506088],\n",
       "       [ 1.26799174,  1.15009286, -0.36561781,  0.79321908,  1.82273984],\n",
       "       [-0.24351459, -0.53754274,  0.35192753,  1.75923019,  2.88075159],\n",
       "       [-0.10104615, -0.30287968, -0.71519631, -1.29341706,  1.03312238]])"
      ]
     },
     "execution_count": 39,
     "metadata": {},
     "output_type": "execute_result"
    }
   ],
   "source": [
    "G = np.random.randn(5,5)\n",
    "G"
   ]
  },
  {
   "cell_type": "code",
   "execution_count": 42,
   "metadata": {},
   "outputs": [
    {
     "name": "stdout",
     "output_type": "stream",
     "text": [
      "0.0985744417081039\n",
      "1.1999341750255395\n"
     ]
    }
   ],
   "source": [
    "print(G.mean())\n",
    "print(G.var())"
   ]
  },
  {
   "cell_type": "code",
   "execution_count": 51,
   "metadata": {},
   "outputs": [
    {
     "name": "stdout",
     "output_type": "stream",
     "text": [
      "[[1 2]\n",
      " [3 4]]\n",
      "\n",
      "[[-2.   1. ]\n",
      " [ 1.5 -0.5]]\n",
      "\n",
      "[[1.00000000e+00 0.00000000e+00]\n",
      " [1.11022302e-16 1.00000000e+00]]\n",
      "\n",
      "[[1.0000000e+00 0.0000000e+00]\n",
      " [8.8817842e-16 1.0000000e+00]]\n"
     ]
    }
   ],
   "source": [
    "A = np.array([[1,2],[3,4]])\n",
    "Ainv = np.linalg.inv(A)\n",
    "print(A)\n",
    "print\n",
    "print(Ainv)\n",
    "print\n",
    "print(Ainv.dot(A))\n",
    "print\n",
    "print(A.dot(Ainv))"
   ]
  },
  {
   "cell_type": "code",
   "execution_count": 54,
   "metadata": {},
   "outputs": [
    {
     "name": "stdout",
     "output_type": "stream",
     "text": [
      "-2.0000000000000004\n",
      "[1 4]\n",
      "[[1 0]\n",
      " [0 2]]\n"
     ]
    }
   ],
   "source": [
    "print(np.linalg.det(A))\n",
    "print(np.diag(A))\n",
    "print(np.diag([1,2]))"
   ]
  },
  {
   "cell_type": "code",
   "execution_count": 61,
   "metadata": {},
   "outputs": [
    {
     "name": "stdout",
     "output_type": "stream",
     "text": [
      "[1 2]\n",
      "[3 4]\n",
      "[[3 4]\n",
      " [6 8]]\n",
      "11\n",
      "11\n",
      "5\n",
      "5\n"
     ]
    }
   ],
   "source": [
    "a = np.array([1,2])\n",
    "b = np.array([3,4])\n",
    "print a\n",
    "print b\n",
    "print(np.outer(a,b))\n",
    "print(np.inner(a,b))\n",
    "print(a.dot(b))\n",
    "print(np.diag(A).sum())\n",
    "print(np.trace(A))"
   ]
  },
  {
   "cell_type": "code",
   "execution_count": 65,
   "metadata": {},
   "outputs": [
    {
     "name": "stdout",
     "output_type": "stream",
     "text": [
      "(100, 100)\n",
      "(3, 3)\n",
      "[[ 1.14594263  0.05716213 -0.08324124]\n",
      " [ 0.05716213  1.16266014  0.07348633]\n",
      " [-0.08324124  0.07348633  1.02152295]]\n"
     ]
    }
   ],
   "source": [
    "X = np.random.randn(100,3)\n",
    "cov = np.cov(X)\n",
    "print(cov.shape)\n",
    "cov = np.cov(X.T)\n",
    "print(cov.shape)\n",
    "print(cov)"
   ]
  },
  {
   "cell_type": "code",
   "execution_count": 68,
   "metadata": {},
   "outputs": [
    {
     "name": "stdout",
     "output_type": "stream",
     "text": [
      "(array([0.9418293 , 1.21208744, 1.17620898]), array([[ 0.43883896, -0.64379038, -0.62686068],\n",
      "       [-0.3839409 , -0.76507716,  0.51695872],\n",
      "       [ 0.81240984, -0.01381582,  0.58292313]]))\n",
      "\n",
      "(array([0.9418293 , 1.17620898, 1.21208744]), array([[ 0.43883896, -0.62686068, -0.64379038],\n",
      "       [-0.3839409 ,  0.51695872, -0.76507716],\n",
      "       [ 0.81240984,  0.58292313, -0.01381582]]))\n"
     ]
    }
   ],
   "source": [
    "print(np.linalg.eig(cov))\n",
    "print\n",
    "print(np.linalg.eigh(cov))"
   ]
  },
  {
   "cell_type": "code",
   "execution_count": null,
   "metadata": {},
   "outputs": [],
   "source": []
  }
 ],
 "metadata": {
  "kernelspec": {
   "display_name": "Python 2",
   "language": "python",
   "name": "python2"
  },
  "language_info": {
   "codemirror_mode": {
    "name": "ipython",
    "version": 2
   },
   "file_extension": ".py",
   "mimetype": "text/x-python",
   "name": "python",
   "nbconvert_exporter": "python",
   "pygments_lexer": "ipython2",
   "version": "2.7.10"
  }
 },
 "nbformat": 4,
 "nbformat_minor": 2
}
